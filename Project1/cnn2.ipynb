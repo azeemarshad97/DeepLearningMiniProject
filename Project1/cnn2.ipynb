{
 "cells": [
  {
   "cell_type": "code",
   "execution_count": 148,
   "metadata": {},
   "outputs": [
    {
     "name": "stdout",
     "output_type": "stream",
     "text": [
      "The autoreload extension is already loaded. To reload it, use:\n",
      "  %reload_ext autoreload\n"
     ]
    }
   ],
   "source": [
    "import torch\n",
    "import torch.nn as nn\n",
    "import torch.nn.functional as F\n",
    "from torchvision import transforms\n",
    "import numpy\n",
    "import matplotlib.pyplot as plt\n",
    "import utils.dlc_practical_prologue as prologue\n",
    "\n",
    "import multiprocessing\n",
    "\n",
    "%load_ext autoreload\n",
    "%autoreload 2"
   ]
  },
  {
   "cell_type": "code",
   "execution_count": 149,
   "metadata": {},
   "outputs": [
    {
     "data": {
      "image/png": "[encoded data removed]",
      "text/plain": [
       "<Figure size 640x480 with 2 Axes>"
      ]
     },
     "metadata": {},
     "output_type": "display_data"
    },
    {
     "data": {
      "image/png": "[encoded data removed]",
      "text/plain": [
       "<Figure size 640x480 with 2 Axes>"
      ]
     },
     "metadata": {},
     "output_type": "display_data"
    },
    {
     "data": {
      "image/png": "[encoded data removed]",
      "text/plain": [
       "<Figure size 640x480 with 2 Axes>"
      ]
     },
     "metadata": {},
     "output_type": "display_data"
    },
    {
     "name": "stdout",
     "output_type": "stream",
     "text": [
      "Train input shapetorch.Size([1000, 2, 14, 14])\n",
      "Train target shapetorch.Size([1000])\n",
      "Train classes shapetorch.Size([1000, 2])\n",
      "---\n",
      "Test input shape torch.Size([1000, 2, 14, 14])\n",
      "Test target shape torch.Size([1000])\n",
      "Test classes shape torch.Size([1000, 2])\n"
     ]
    }
   ],
   "source": [
    "from torch.utils.data import Dataset\n",
    "\n",
    "from torch.utils.data import TensorDataset\n",
    "\n",
    "transform = transforms.Compose(\n",
    "    [\n",
    "        # transforms.ToTensor(),\n",
    "        transforms.Lambda(lambda x: x.div(255))]\n",
    ")\n",
    "\n",
    "train_input, train_target, train_classes,\\\n",
    "    test_input, test_target, test_classes = prologue.generate_pair_sets(\n",
    "        1000, transform=transform)\n",
    "    \n",
    "# train_input = transform(train_input)\n",
    "# test_input = transform(test_input)\n",
    "\n",
    "trainset = TensorDataset(train_input, train_target)\n",
    "testset = TensorDataset(test_input, test_target)\n",
    "\n",
    "trainloader = torch.utils.data.DataLoader(\n",
    "    trainset, batch_size=50, shuffle=True, num_workers= 1)\n",
    "testloader = torch.utils.data.DataLoader(\n",
    "    testset, batch_size=50, shuffle=False, num_workers= 1)\n",
    "\n",
    "# target: 1 if digit 1 <= digit 2, \n",
    "#         0 otherwise\n",
    "\n",
    "# Plotting the first 5 pairs of images\n",
    "for i in range(3):\n",
    "    for j in range(2):\n",
    "        plt.subplot(1, 2, j+1)\n",
    "        plt.imshow(train_input[i, j].view(14, 14), cmap='gray')\n",
    "        # plot the target and its class in the title\n",
    "        plt.suptitle(f\"Target: {train_target[i]}\")\n",
    "        plt.title(f' Class: {train_classes[i, j]}')\n",
    "        plt.axis('off')\n",
    "    plt.show()\n",
    "\n",
    "# print the shapes of the tensors\n",
    "print(f\"Train input shape{train_input.shape}\")\n",
    "print(f\"Train target shape{train_target.shape}\")\n",
    "print(f\"Train classes shape{train_classes.shape}\")\n",
    "print('---')\n",
    "print(f\"Test input shape {test_input.shape}\")\n",
    "print(f\"Test target shape {test_target.shape}\")\n",
    "print(f\"Test classes shape {test_classes.shape}\")\n"
   ]
  },
  {
   "cell_type": "markdown",
   "metadata": {},
   "source": [
    "## Examine data format and normalize"
   ]
  },
  {
   "cell_type": "code",
   "execution_count": 150,
   "metadata": {},
   "outputs": [
    {
     "name": "stdout",
     "output_type": "stream",
     "text": [
      "torch.Size([14, 14])\n",
      "torch.float32\n",
      "tensor(0.9941)\n",
      "tensor(0.)\n"
     ]
    }
   ],
   "source": [
    "print(train_input[0,1].shape)\n",
    "print(train_input[0,1].dtype)\n",
    "print(train_input[0,1].max())\n",
    "print(train_input[0,1].min())"
   ]
  },
  {
   "cell_type": "markdown",
   "metadata": {},
   "source": [
    "### Baseline"
   ]
  },
  {
   "cell_type": "code",
   "execution_count": 151,
   "metadata": {},
   "outputs": [
    {
     "name": "stdout",
     "output_type": "stream",
     "text": [
      "tensor(0.5560)\n",
      "tensor(0.5570)\n"
     ]
    }
   ],
   "source": [
    "print(torch.mean(train_target.float()))\n",
    "print(torch.mean(test_target.float()))"
   ]
  },
  {
   "cell_type": "code",
   "execution_count": 152,
   "metadata": {},
   "outputs": [
    {
     "name": "stdout",
     "output_type": "stream",
     "text": [
      "Baseline accuracy: 55.70%\n"
     ]
    }
   ],
   "source": [
    "baseline_target_pred = torch.ones_like(train_target)\n",
    "\n",
    "# compute accuracy of the baseline and the test target\n",
    "acc = 100 * (baseline_target_pred == test_target).sum().item() / test_target.shape[0]\n",
    "print(f\"Baseline accuracy: {acc:.2f}%\")"
   ]
  },
  {
   "cell_type": "markdown",
   "metadata": {},
   "source": [
    "### Convnet"
   ]
  },
  {
   "cell_type": "markdown",
   "metadata": {},
   "source": [
    "TODO now:\n",
    "\n",
    "1. figure out parameters for cnn layers\n",
    "\n",
    "    a. Figure out input (w/ 2 images)\n",
    "    \n",
    "    b. Debug conv and pool parameters\n",
    "\n",
    "2. Optimizer"
   ]
  },
  {
   "cell_type": "code",
   "execution_count": 153,
   "metadata": {},
   "outputs": [
    {
     "data": {
      "text/plain": [
       "False"
      ]
     },
     "execution_count": 153,
     "metadata": {},
     "output_type": "execute_result"
    }
   ],
   "source": [
    "torch.cuda.is_available()"
   ]
  },
  {
   "cell_type": "code",
   "execution_count": 154,
   "metadata": {},
   "outputs": [],
   "source": [
    "# # 68%\n",
    "\n",
    "# class Net(nn.Module):\n",
    "#     def __init__(self):\n",
    "#         super(Net, self).__init__()\n",
    "#         self.conv1 = nn.Conv2d(2, 16, (3, 3))\n",
    "#         self.pool = nn.MaxPool2d(2, 2)\n",
    "#         self.conv2 = nn.Conv2d(16, 32, (3,3))\n",
    "#         self.fc1 = nn.Linear(32*5*5, 200)\n",
    "#         self.fc2 = nn.Linear(200, 1)\n",
    "#         # self.fc3 = nn.Linear(32, 10)\n",
    "\n",
    "#     def forward(self, x):\n",
    "#         x = F.relu(self.conv1(x))\n",
    "#         #print(x.shape)\n",
    "#         #x = self.pool(x)\n",
    "#         x = F.relu(self.conv2(x))\n",
    "#         #print(x.shape)\n",
    "#         x = self.pool(x)\n",
    "#         x = x.view(x.size(0), -1)   # flatten features\n",
    "#         #print(x.shape) 2x800\n",
    "\n",
    "#         x = self.fc1(x)\n",
    "#         x = self.fc2(x)\n",
    "#         x = F.softmax(x, dim=0) # return a probability\n",
    "#         # x = self.fc3(x)\n",
    "#         return x\n",
    "\n",
    "# net = Net()"
   ]
  },
  {
   "cell_type": "code",
   "execution_count": 155,
   "metadata": {},
   "outputs": [],
   "source": [
    "class Net(nn.Module):\n",
    "    def __init__(self):\n",
    "        super(Net,self).__init__()\n",
    "        self.conv1_1 = nn.Conv2d(1, 16, (3, 3))\n",
    "        self.conv1_2 = nn.Conv2d(16, 32, (3,3))\n",
    "        self.conv2_1 = nn.Conv2d(1, 16, (3, 3))\n",
    "        self.conv2_2 = nn.Conv2d(16, 32, (3,3))\n",
    "        self.max_pool = nn.MaxPool2d(kernel_size=(2,2),stride=2)\n",
    "        self.fc1 = nn.Linear(32*5*5*2, 32)\n",
    "        self.fc2 = nn.Linear(32, 64)\n",
    "        self.fc3 = nn.Linear(64, 128)\n",
    "        self.fc4 = nn.Linear(128,1)\n",
    "\n",
    "    def forward(self, input):\n",
    "\n",
    "        #print(input.shape)\n",
    "        img1 = torch.narrow(input,dim=1,start=0,length=1)\n",
    "        #print(img1.shape)\n",
    "        img2 = torch.narrow(input,dim=1,start=1,length=1)\n",
    "        #print(img2.shape)\n",
    "        x = self.conv1_1(img1)\n",
    "        x = F.relu(x)\n",
    "        x = self.conv1_2(x)\n",
    "        x = F.relu(x)\n",
    "        x = self.max_pool(x)\n",
    "        x = x.view(x.size(0), -1)\n",
    "        \n",
    "        y = self.conv2_1(img2)\n",
    "        y = F.relu(y)\n",
    "        y = self.conv2_2(y)\n",
    "        y = F.relu(y)\n",
    "        y = self.max_pool(y)\n",
    "        y = y.view(y.size(0), -1)\n",
    "\n",
    "        z = torch.cat((x,y), 1)\n",
    "        z = self.fc1(z)\n",
    "        z = F.relu(z)\n",
    "        z = self.fc2(z)\n",
    "        z = F.relu(z)\n",
    "        z = self.fc3(z)\n",
    "        z = F.relu(z)\n",
    "        z = self.fc4(z)\n",
    "        z = torch.sigmoid(z)\n",
    "        return z\n",
    "\n",
    "\n",
    "net = Net()"
   ]
  },
  {
   "cell_type": "code",
   "execution_count": 157,
   "metadata": {},
   "outputs": [
    {
     "name": "stdout",
     "output_type": "stream",
     "text": [
      "cpu\n"
     ]
    },
    {
     "data": {
      "text/plain": [
       "Net(\n",
       "  (conv1_1): Conv2d(1, 16, kernel_size=(3, 3), stride=(1, 1))\n",
       "  (conv1_2): Conv2d(16, 32, kernel_size=(3, 3), stride=(1, 1))\n",
       "  (conv2_1): Conv2d(1, 16, kernel_size=(3, 3), stride=(1, 1))\n",
       "  (conv2_2): Conv2d(16, 32, kernel_size=(3, 3), stride=(1, 1))\n",
       "  (max_pool): MaxPool2d(kernel_size=(2, 2), stride=2, padding=0, dilation=1, ceil_mode=False)\n",
       "  (fc1): Linear(in_features=1600, out_features=32, bias=True)\n",
       "  (fc2): Linear(in_features=32, out_features=64, bias=True)\n",
       "  (fc3): Linear(in_features=64, out_features=128, bias=True)\n",
       "  (fc4): Linear(in_features=128, out_features=1, bias=True)\n",
       ")"
      ]
     },
     "execution_count": 157,
     "metadata": {},
     "output_type": "execute_result"
    }
   ],
   "source": [
    "import torch.optim as optim\n",
    "\n",
    "criterion = nn.BCELoss()\n",
    "# optimizer = optim.SGD(net.parameters(), lr=0.001, momentum=0.5)\n",
    "optimizer = optim.Adam(net.parameters(), lr=0.001)\n",
    "\n",
    "device = torch.device(\"cuda:0\" if torch.cuda.is_available() else \"cpu\")\n",
    "print(device)\n",
    "\n",
    "net.to(device)"
   ]
  },
  {
   "cell_type": "code",
   "execution_count": 158,
   "metadata": {},
   "outputs": [
    {
     "name": "stdout",
     "output_type": "stream",
     "text": [
      "Finished Training 0.009\n"
     ]
    }
   ],
   "source": [
    "for epoch in range(25):  # loop over the dataset multiple times\n",
    "\n",
    "    running_loss = 0.0\n",
    "    for i, data in enumerate(trainloader, 0):\n",
    "        ## -- ! code required  \n",
    "        \n",
    "        inputs, labels = data\n",
    "        # Concatenate both images side-by-side\n",
    "        # left, right = inputs[:, 0], inputs[:, 1]\n",
    "        # inputs = torch.cat((left, right), 2)\n",
    "        # inputs = torch.unsqueeze(inputs, 1)\n",
    "        inputs, labels = inputs.to(device), labels.to(device)\n",
    "\n",
    "\n",
    "        optimizer.zero_grad()   # zero the gradient buffers\n",
    "        outputs = net(inputs)\n",
    "        # print(outputs)\n",
    "        # print(labels.reshape(-1, 1).type_as(outputs))\n",
    "        loss = criterion(outputs, labels.reshape(-1, 1).type_as(outputs))\n",
    "        # print(loss)\n",
    "        loss.backward()\n",
    "        optimizer.step()\n",
    "\n",
    "\n",
    "        # print statistics\n",
    "\n",
    "        running_loss += loss.item()\n",
    "        if i % 10 == 0:    # print every 2000 mini-batches\n",
    "            print('[%d, %5d] loss: %.3f' % \n",
    "                (epoch + 1, i + 1, running_loss / (1000/trainloader.batch_size)), end='\\r')\n",
    "            running_loss = 0.0\n",
    "\n",
    "print('Finished Training')"
   ]
  },
  {
   "cell_type": "code",
   "execution_count": 159,
   "metadata": {},
   "outputs": [
    {
     "name": "stdout",
     "output_type": "stream",
     "text": [
      "Accuracy of the network on the 1000 test images: 82.1 %\n"
     ]
    }
   ],
   "source": [
    "def test_accuracy(net, testloader):\n",
    "\n",
    "    acc = 0\n",
    "    for i, data in enumerate(testloader, 0):\n",
    "        \n",
    "        inputs, labels = data\n",
    "\n",
    "        # Concatenate both images side-by-side\n",
    "        # left, right = inputs[:, 0], inputs[:, 1]\n",
    "        # inputs = torch.cat((left, right), 2)\n",
    "        # inputs = torch.unsqueeze(inputs, 1)\n",
    "        \n",
    "        device = torch.device(\"cuda:0\" if torch.cuda.is_available() else \"cpu\")\n",
    "        inputs, labels = inputs.to(device), labels.to(device)\n",
    "    \n",
    "        outputs = net(inputs)\n",
    "        equality = (labels.reshape(-1, 1) == outputs.round().to(torch.int))\n",
    "        acc += equality.to(torch.float).mean()\n",
    "\n",
    "    return acc.item() / (i+1)\n",
    "\n",
    "acc = test_accuracy(net, testloader)\n",
    "print(f'Accuracy of the network on the {(i+1)*testloader.batch_size} test images: {100*acc:.1f} %')"
   ]
  },
  {
   "cell_type": "code",
   "execution_count": 160,
   "metadata": {},
   "outputs": [
    {
     "name": "stdout",
     "output_type": "stream",
     "text": [
      "----------------------------------------------------------------\n",
      "        Layer (type)               Output Shape         Param #\n",
      "================================================================\n",
      "            Conv2d-1           [-1, 16, 12, 12]             160\n",
      "            Conv2d-2           [-1, 32, 10, 10]           4,640\n",
      "         MaxPool2d-3             [-1, 32, 5, 5]               0\n",
      "            Conv2d-4           [-1, 16, 12, 12]             160\n",
      "            Conv2d-5           [-1, 32, 10, 10]           4,640\n",
      "         MaxPool2d-6             [-1, 32, 5, 5]               0\n",
      "            Linear-7                   [-1, 32]          51,232\n",
      "            Linear-8                   [-1, 64]           2,112\n",
      "            Linear-9                  [-1, 128]           8,320\n",
      "           Linear-10                    [-1, 1]             129\n",
      "================================================================\n",
      "Total params: 71,393\n",
      "Trainable params: 71,393\n",
      "Non-trainable params: 0\n",
      "----------------------------------------------------------------\n",
      "Input size (MB): 0.00\n",
      "Forward/backward pass size (MB): 0.10\n",
      "Params size (MB): 0.27\n",
      "Estimated Total Size (MB): 0.37\n",
      "----------------------------------------------------------------\n"
     ]
    }
   ],
   "source": [
    "from torchsummary import summary\n",
    "model_view = Net()\n",
    "summary(model_view,(2,14,14))"
   ]
  },
  {
   "cell_type": "markdown",
   "metadata": {},
   "source": [
    "### model saving"
   ]
  },
  {
   "cell_type": "code",
   "execution_count": 161,
   "metadata": {},
   "outputs": [],
   "source": [
    "# save model parameters\n",
    "torch.save(net.state_dict(), './Models/cnn_2.pt')"
   ]
  },
  {
   "cell_type": "code",
   "execution_count": 162,
   "metadata": {},
   "outputs": [
    {
     "data": {
      "text/plain": [
       "Net(\n",
       "  (conv1_1): Conv2d(1, 16, kernel_size=(3, 3), stride=(1, 1))\n",
       "  (conv1_2): Conv2d(16, 32, kernel_size=(3, 3), stride=(1, 1))\n",
       "  (conv2_1): Conv2d(1, 16, kernel_size=(3, 3), stride=(1, 1))\n",
       "  (conv2_2): Conv2d(16, 32, kernel_size=(3, 3), stride=(1, 1))\n",
       "  (max_pool): MaxPool2d(kernel_size=(2, 2), stride=2, padding=0, dilation=1, ceil_mode=False)\n",
       "  (fc1): Linear(in_features=1600, out_features=32, bias=True)\n",
       "  (fc2): Linear(in_features=32, out_features=64, bias=True)\n",
       "  (fc3): Linear(in_features=64, out_features=128, bias=True)\n",
       "  (fc4): Linear(in_features=128, out_features=1, bias=True)\n",
       ")"
      ]
     },
     "execution_count": 162,
     "metadata": {},
     "output_type": "execute_result"
    }
   ],
   "source": [
    "# load model parameters\n",
    "model1 = Net()\n",
    "model1.load_state_dict(torch.load('./Models/cnn_2.pt'))\n",
    "model1.eval()"
   ]
  },
  {
   "cell_type": "code",
   "execution_count": 163,
   "metadata": {},
   "outputs": [
    {
     "data": {
      "text/plain": [
       "71393"
      ]
     },
     "execution_count": 163,
     "metadata": {},
     "output_type": "execute_result"
    }
   ],
   "source": [
    "pytorch_total_params = sum(p.numel() for p in model1.parameters())\n",
    "pytorch_total_params"
   ]
  },
  {
   "cell_type": "code",
   "execution_count": null,
   "metadata": {},
   "outputs": [],
   "source": []
  }
 ],
 "metadata": {
  "kernelspec": {
   "display_name": "Python 3.8.2 ('env': venv)",
   "language": "python",
   "name": "python3"
  },
  "language_info": {
   "codemirror_mode": {
    "name": "ipython",
    "version": 3
   },
   "file_extension": ".py",
   "mimetype": "text/x-python",
   "name": "python",
   "nbconvert_exporter": "python",
   "pygments_lexer": "ipython3",
   "version": "3.8.2"
  },
  "orig_nbformat": 4,
  "vscode": {
   "interpreter": {
    "hash": "ff239fc8ea06c30ba05b6d8250b410849885b2fc10dbe2526c5e8db8fcffc645"
   }
  }
 },
 "nbformat": 4,
 "nbformat_minor": 2
}
