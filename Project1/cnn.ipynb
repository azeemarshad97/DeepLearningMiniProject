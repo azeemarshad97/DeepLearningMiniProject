{
 "cells": [
  {
   "cell_type": "code",
   "execution_count": 2,
   "metadata": {},
   "outputs": [
    {
     "name": "stdout",
     "output_type": "stream",
     "text": [
      "The autoreload extension is already loaded. To reload it, use:\n",
      "  %reload_ext autoreload\n"
     ]
    }
   ],
   "source": [
    "import torch\n",
    "import torch.nn as nn\n",
    "import torch.nn.functional as F\n",
    "from torchvision import transforms\n",
    "import numpy\n",
    "import matplotlib.pyplot as plt\n",
    "import utils.dlc_practical_prologue as prologue\n",
    "\n",
    "import multiprocessing\n",
    "\n",
    "%load_ext autoreload\n",
    "%autoreload 2"
   ]
  },
  {
   "cell_type": "code",
   "execution_count": 3,
   "metadata": {},
   "outputs": [
    {
     "data": {
      "image/png": "[encoded data removed]",
      "text/plain": [
       "<Figure size 640x480 with 2 Axes>"
      ]
     },
     "metadata": {},
     "output_type": "display_data"
    },
    {
     "data": {
      "image/png": "[encoded data removed]",
      "text/plain": [
       "<Figure size 640x480 with 2 Axes>"
      ]
     },
     "metadata": {},
     "output_type": "display_data"
    },
    {
     "data": {
      "image/png": "[encoded data removed]",
      "text/plain": [
       "<Figure size 640x480 with 2 Axes>"
      ]
     },
     "metadata": {},
     "output_type": "display_data"
    },
    {
     "name": "stdout",
     "output_type": "stream",
     "text": [
      "Train input shapetorch.Size([1000, 2, 14, 14])\n",
      "Train target shapetorch.Size([1000])\n",
      "Train classes shapetorch.Size([1000, 2])\n",
      "---\n",
      "Test input shape torch.Size([1000, 2, 14, 14])\n",
      "Test target shape torch.Size([1000])\n",
      "Test classes shape torch.Size([1000, 2])\n"
     ]
    }
   ],
   "source": [
    "from torch.utils.data import Dataset\n",
    "\n",
    "from torch.utils.data import TensorDataset\n",
    "\n",
    "transform = transforms.Compose(\n",
    "    [\n",
    "        # transforms.ToTensor(),\n",
    "        transforms.Lambda(lambda x: x.div(255))]\n",
    ")\n",
    "\n",
    "train_input, train_target, train_classes,\\\n",
    "    test_input, test_target, test_classes = prologue.generate_pair_sets(\n",
    "        1000, transform=transform)\n",
    "    \n",
    "# train_input = transform(train_input)\n",
    "# test_input = transform(test_input)\n",
    "\n",
    "trainset = TensorDataset(train_input, train_target)\n",
    "testset = TensorDataset(test_input, test_target)\n",
    "\n",
    "trainloader = torch.utils.data.DataLoader(\n",
    "    trainset, batch_size=20, shuffle=True, num_workers= 1)\n",
    "testloader = torch.utils.data.DataLoader(\n",
    "    testset, batch_size=20, shuffle=False, num_workers= 1)\n",
    "\n",
    "# target: 1 if digit 1 <= digit 2, \n",
    "#         0 otherwise\n",
    "\n",
    "# Plotting the first 5 pairs of images\n",
    "for i in range(3):\n",
    "    for j in range(2):\n",
    "        plt.subplot(1, 2, j+1)\n",
    "        plt.imshow(train_input[i, j].view(14, 14), cmap='gray')\n",
    "        # plot the target and its class in the title\n",
    "        plt.suptitle(f\"Target: {train_target[i]}\")\n",
    "        plt.title(f' Class: {train_classes[i, j]}')\n",
    "        plt.axis('off')\n",
    "    plt.show()\n",
    "\n",
    "# print the shapes of the tensors\n",
    "print(f\"Train input shape{train_input.shape}\")\n",
    "print(f\"Train target shape{train_target.shape}\")\n",
    "print(f\"Train classes shape{train_classes.shape}\")\n",
    "print('---')\n",
    "print(f\"Test input shape {test_input.shape}\")\n",
    "print(f\"Test target shape {test_target.shape}\")\n",
    "print(f\"Test classes shape {test_classes.shape}\")\n"
   ]
  },
  {
   "cell_type": "markdown",
   "metadata": {},
   "source": [
    "## Examine data format and normalize"
   ]
  },
  {
   "cell_type": "code",
   "execution_count": 4,
   "metadata": {},
   "outputs": [
    {
     "name": "stdout",
     "output_type": "stream",
     "text": [
      "torch.Size([14, 14])\n",
      "torch.float32\n",
      "tensor(0.9931)\n",
      "tensor(0.)\n"
     ]
    }
   ],
   "source": [
    "print(train_input[0,1].shape)\n",
    "print(train_input[0,1].dtype)\n",
    "print(train_input[0,1].max())\n",
    "print(train_input[0,1].min())"
   ]
  },
  {
   "cell_type": "markdown",
   "metadata": {},
   "source": [
    "### Baseline"
   ]
  },
  {
   "cell_type": "code",
   "execution_count": 5,
   "metadata": {},
   "outputs": [
    {
     "name": "stdout",
     "output_type": "stream",
     "text": [
      "tensor(0.5510)\n",
      "tensor(0.5260)\n"
     ]
    }
   ],
   "source": [
    "print(torch.mean(train_target.float()))\n",
    "print(torch.mean(test_target.float()))"
   ]
  },
  {
   "cell_type": "code",
   "execution_count": 6,
   "metadata": {},
   "outputs": [
    {
     "name": "stdout",
     "output_type": "stream",
     "text": [
      "Baseline accuracy: 52.60%\n"
     ]
    }
   ],
   "source": [
    "baseline_target_pred = torch.ones_like(train_target)\n",
    "\n",
    "# compute accuracy of the baseline and the test target\n",
    "acc = 100 * (baseline_target_pred == test_target).sum().item() / test_target.shape[0]\n",
    "print(f\"Baseline accuracy: {acc:.2f}%\")"
   ]
  },
  {
   "cell_type": "markdown",
   "metadata": {},
   "source": [
    "### Convnet"
   ]
  },
  {
   "cell_type": "markdown",
   "metadata": {},
   "source": [
    "TODO now:\n",
    "\n",
    "1. figure out parameters for cnn layers\n",
    "\n",
    "    a. Figure out input (w/ 2 images)\n",
    "    \n",
    "    b. Debug conv and pool parameters\n",
    "\n",
    "2. Optimizer"
   ]
  },
  {
   "cell_type": "code",
   "execution_count": 7,
   "metadata": {},
   "outputs": [
    {
     "data": {
      "text/plain": [
       "False"
      ]
     },
     "execution_count": 7,
     "metadata": {},
     "output_type": "execute_result"
    }
   ],
   "source": [
    "torch.cuda.is_available()"
   ]
  },
  {
   "cell_type": "code",
   "execution_count": 8,
   "metadata": {},
   "outputs": [],
   "source": [
    "class Net(nn.Module):\n",
    "    def __init__(self):\n",
    "        super(Net, self).__init__()\n",
    "        self.conv1 = nn.Conv2d(1, 5, (3, 3))\n",
    "        self.pool = nn.MaxPool2d(2, 2)\n",
    "        self.conv2 = nn.Conv2d(5, 10, (3,3))\n",
    "        self.fc1 = nn.Linear(10*4*11, 40)\n",
    "        self.fc2 = nn.Linear(40, 1)\n",
    "        # self.fc3 = nn.Linear(32, 10)\n",
    "\n",
    "    def forward(self, x):\n",
    "        x = self.conv1(x)\n",
    "        x = self.pool(x)\n",
    "        x = self.conv2(x)\n",
    "        x = x.view(x.size(0), -1)   # flatten features\n",
    "\n",
    "        x = F.relu(self.fc1(x))\n",
    "        x = self.fc2(x)\n",
    "        x = F.softmax(x, dim=0) # return a probability\n",
    "        # x = self.fc3(x)\n",
    "        return x\n",
    "\n",
    "net = Net()"
   ]
  },
  {
   "cell_type": "code",
   "execution_count": 9,
   "metadata": {},
   "outputs": [
    {
     "name": "stdout",
     "output_type": "stream",
     "text": [
      "cpu\n"
     ]
    },
    {
     "data": {
      "text/plain": [
       "Net(\n",
       "  (conv1): Conv2d(1, 5, kernel_size=(3, 3), stride=(1, 1))\n",
       "  (pool): MaxPool2d(kernel_size=2, stride=2, padding=0, dilation=1, ceil_mode=False)\n",
       "  (conv2): Conv2d(5, 10, kernel_size=(3, 3), stride=(1, 1))\n",
       "  (fc1): Linear(in_features=440, out_features=40, bias=True)\n",
       "  (fc2): Linear(in_features=40, out_features=1, bias=True)\n",
       ")"
      ]
     },
     "execution_count": 9,
     "metadata": {},
     "output_type": "execute_result"
    }
   ],
   "source": [
    "import torch.optim as optim\n",
    "\n",
    "criterion = nn.BCELoss()\n",
    "# optimizer = optim.SGD(net.parameters(), lr=0.001, momentum=0.9)\n",
    "optimizer = optim.Adam(net.parameters(), lr=0.001)\n",
    "\n",
    "device = torch.device(\"cuda:0\" if torch.cuda.is_available() else \"cpu\")\n",
    "print(device)\n",
    "\n",
    "net.to(device)"
   ]
  },
  {
   "cell_type": "code",
   "execution_count": 10,
   "metadata": {},
   "outputs": [
    {
     "name": "stdout",
     "output_type": "stream",
     "text": [
      "Finished Training 0.256\n"
     ]
    }
   ],
   "source": [
    "for epoch in range(20):  # loop over the dataset multiple times\n",
    "\n",
    "    running_loss = 0.0\n",
    "    for i, data in enumerate(trainloader, 0):\n",
    "        ## -- ! code required  \n",
    "        \n",
    "        inputs, labels = data\n",
    "        # Concatenate both images side-by-side\n",
    "        left, right = inputs[:, 0], inputs[:, 1]\n",
    "        inputs = torch.cat((left, right), 2)\n",
    "        inputs = torch.unsqueeze(inputs, 1)\n",
    "        inputs, labels = inputs.to(device), labels.to(device)\n",
    "\n",
    "\n",
    "        optimizer.zero_grad()   # zero the gradient buffers\n",
    "        outputs = net(inputs)\n",
    "        # print(outputs)\n",
    "        # print(labels.reshape(-1, 1).type_as(outputs))\n",
    "        loss = criterion(outputs, labels.reshape(-1, 1).type_as(outputs))\n",
    "        # print(loss)\n",
    "        loss.backward()\n",
    "        optimizer.step()\n",
    "\n",
    "\n",
    "        # print statistics\n",
    "\n",
    "        running_loss += loss.item()\n",
    "        if i % 10 == 0:    # print every 2000 mini-batches\n",
    "            print('[%d, %5d] loss: %.3f' % \n",
    "                (epoch + 1, i + 1, running_loss / (1000/trainloader.batch_size)), end='\\r')\n",
    "            running_loss = 0.0\n",
    "\n",
    "print('Finished Training')"
   ]
  },
  {
   "cell_type": "code",
   "execution_count": 11,
   "metadata": {},
   "outputs": [
    {
     "name": "stdout",
     "output_type": "stream",
     "text": [
      "Accuracy of the network on the 1000 test images: 47.4 %\n"
     ]
    }
   ],
   "source": [
    "def test_accuracy(net, testloader):\n",
    "\n",
    "    acc = 0\n",
    "    for i, data in enumerate(testloader, 0):\n",
    "        \n",
    "        inputs, labels = data\n",
    "\n",
    "        # Concatenate both images side-by-side\n",
    "        left, right = inputs[:, 0], inputs[:, 1]\n",
    "        inputs = torch.cat((left, right), 2)\n",
    "        inputs = torch.unsqueeze(inputs, 1)\n",
    "        \n",
    "        device = torch.device(\"cuda:0\" if torch.cuda.is_available() else \"cpu\")\n",
    "        inputs, labels = inputs.to(device), labels.to(device)\n",
    "    \n",
    "        outputs = net(inputs)\n",
    "        equality = (labels.reshape(-1, 1) == outputs.round().to(torch.int))\n",
    "        acc += equality.to(torch.float).mean()\n",
    "\n",
    "    return acc.item() / (i+1)\n",
    "\n",
    "acc = test_accuracy(net, testloader)\n",
    "print(f'Accuracy of the network on the {(i+1)*testloader.batch_size} test images: {100*acc:.1f} %')"
   ]
  },
  {
   "cell_type": "markdown",
   "metadata": {},
   "source": [
    "### model saving"
   ]
  },
  {
   "cell_type": "code",
   "execution_count": 12,
   "metadata": {},
   "outputs": [],
   "source": [
    "# save model parameters\n",
    "torch.save(net.state_dict(), './Models/cnn_1.pt')"
   ]
  },
  {
   "cell_type": "code",
   "execution_count": 13,
   "metadata": {},
   "outputs": [
    {
     "data": {
      "text/plain": [
       "Net(\n",
       "  (conv1): Conv2d(1, 5, kernel_size=(3, 3), stride=(1, 1))\n",
       "  (pool): MaxPool2d(kernel_size=2, stride=2, padding=0, dilation=1, ceil_mode=False)\n",
       "  (conv2): Conv2d(5, 10, kernel_size=(3, 3), stride=(1, 1))\n",
       "  (fc1): Linear(in_features=440, out_features=40, bias=True)\n",
       "  (fc2): Linear(in_features=40, out_features=1, bias=True)\n",
       ")"
      ]
     },
     "execution_count": 13,
     "metadata": {},
     "output_type": "execute_result"
    }
   ],
   "source": [
    "# load model parameters\n",
    "model1 = Net()\n",
    "model1.load_state_dict(torch.load('./Models/cnn_1.pt'))\n",
    "model1.eval()"
   ]
  }
 ],
 "metadata": {
  "kernelspec": {
   "display_name": "Python 3.10.7 ('env': venv)",
   "language": "python",
   "name": "python3"
  },
  "language_info": {
   "codemirror_mode": {
    "name": "ipython",
    "version": 3
   },
   "file_extension": ".py",
   "mimetype": "text/x-python",
   "name": "python",
   "nbconvert_exporter": "python",
   "pygments_lexer": "ipython3",
   "version": "3.10.7"
  },
  "orig_nbformat": 4,
  "vscode": {
   "interpreter": {
    "hash": "1df14ab64c8b80a00633eb588e502182d4703a9c23e6ea3c6fedede8ab1fffa5"
   }
  }
 },
 "nbformat": 4,
 "nbformat_minor": 2
}
