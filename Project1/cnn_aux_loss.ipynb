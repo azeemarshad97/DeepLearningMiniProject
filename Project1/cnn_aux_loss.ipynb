{
  "cells": [
    {
      "cell_type": "code",
      "execution_count": 1,
      "metadata": {
        "id": "3qnSzwgMs60W"
      },
      "outputs": [],
      "source": [
        "import multiprocessing\n",
        "\n",
        "import matplotlib.pyplot as plt\n",
        "import numpy as np\n",
        "import torch\n",
        "import torchvision\n",
        "import torch.nn as nn\n",
        "import torch.nn.functional as F\n",
        "import torch.optim as optim\n",
        "from torch.utils.data import Dataset, TensorDataset\n",
        "from torch.utils.tensorboard import SummaryWriter\n",
        "\n",
        "import utils.dlc_practical_prologue as prologue\n",
        "\n",
        "from torchvision import transforms\n",
        "\n",
        "\n",
        "%load_ext autoreload\n",
        "%autoreload 2"
      ]
    },
    {
      "cell_type": "code",
      "execution_count": 2,
      "metadata": {
        "id": "p1Nsy_i7s60e"
      },
      "outputs": [],
      "source": [
        "def load_data(batch_size=20):\n",
        "    transform = transforms.Compose(\n",
        "    [\n",
        "        # transforms.ToTensor(),\n",
        "        transforms.Lambda(lambda x: x.div(255))]\n",
        "    )\n",
        "\n",
        "    train_input, train_target, train_classes,\\\n",
        "        test_input, test_target, test_classes = prologue.generate_pair_sets(\n",
        "            1000, transform=transform)\n",
        "\n",
        "    trainset = TensorDataset(train_input, train_target, train_classes)\n",
        "    testset = TensorDataset(test_input, test_target, test_classes)\n",
        "\n",
        "    trainloader = torch.utils.data.DataLoader(\n",
        "        trainset, batch_size=batch_size, shuffle=True, num_workers= 1)\n",
        "    testloader = torch.utils.data.DataLoader(\n",
        "        testset, batch_size=batch_size, shuffle=True, num_workers= 1)\n",
        "    return trainloader, testloader"
      ]
    },
    {
      "cell_type": "code",
      "execution_count": null,
      "metadata": {
        "id": "qb_x54zHs60g"
      },
      "outputs": [],
      "source": [
        "\n",
        "BATCH_SIZE = 50\n",
        "\n",
        "transform = transforms.Compose(\n",
        "    [\n",
        "        # transforms.ToTensor(),\n",
        "        transforms.Lambda(lambda x: x.div(255))]\n",
        ")\n",
        "\n",
        "train_input, train_target, train_classes,\\\n",
        "    test_input, test_target, test_classes = prologue.generate_pair_sets(\n",
        "        1000, transform=transform)\n",
        "    \n",
        "# train_input = transform(train_input)\n",
        "# test_input = transform(test_input)\n",
        "\n",
        "trainset = TensorDataset(train_input, train_target, train_classes)\n",
        "testset = TensorDataset(test_input, test_target, test_classes)\n",
        "\n",
        "trainloader = torch.utils.data.DataLoader(\n",
        "    trainset, batch_size=BATCH_SIZE, shuffle=True, num_workers= 1)\n",
        "testloader = torch.utils.data.DataLoader(\n",
        "    testset, batch_size=BATCH_SIZE, shuffle=False, num_workers= 1)\n",
        "\n",
        "# target: 1 if digit 1 <= digit 2, \n",
        "#         0 otherwise\n",
        "\n",
        "\n",
        "# Plotting the first 5 pairs of images\n",
        "for i in range(1):\n",
        "    for j in range(2):\n",
        "        plt.subplot(1, 2, j+1)\n",
        "        plt.imshow(train_input[i, j].view(14, 14), cmap='gray')\n",
        "        # plot the target and its class in the title\n",
        "        plt.suptitle(f\"Target: {train_target[i]}\")\n",
        "        plt.title(f' Class: {train_classes[i, j]}')\n",
        "        plt.axis('off')\n",
        "    plt.show()\n",
        "\n",
        "# print the shapes of the tensors\n",
        "print(f\"Train input shape{train_input.shape}\")\n",
        "print(f\"Train target shape{train_target.shape}\")\n",
        "print(f\"Train classes shape{train_classes.shape}\")\n",
        "print('---')\n",
        "print(f\"Test input shape {test_input.shape}\")\n",
        "print(f\"Test target shape {test_target.shape}\")\n",
        "print(f\"Test classes shape {test_classes.shape}\")\n"
      ]
    },
    {
      "cell_type": "code",
      "execution_count": 4,
      "metadata": {
        "colab": {
          "base_uri": "https://localhost:8080/"
        },
        "id": "Z7gDJwChs60i",
        "outputId": "1082793e-b212-4e59-9197-6556bdcdff89"
      },
      "outputs": [
        {
          "name": "stdout",
          "output_type": "stream",
          "text": [
            "torch.Size([14, 14])\n",
            "torch.float32\n",
            "tensor(0.9931)\n",
            "tensor(0.)\n"
          ]
        }
      ],
      "source": [
        "print(train_input[0,1].shape)\n",
        "print(train_input[0,1].dtype)\n",
        "print(train_input[0,1].max())\n",
        "print(train_input[0,1].min())"
      ]
    },
    {
      "cell_type": "markdown",
      "metadata": {
        "id": "abnHBmiPs60j"
      },
      "source": [
        "### Baseline"
      ]
    },
    {
      "cell_type": "code",
      "execution_count": 5,
      "metadata": {
        "colab": {
          "base_uri": "https://localhost:8080/"
        },
        "id": "7z-ekNLJs60l",
        "outputId": "4ba3327b-b65a-4610-cb91-c77586a19c66"
      },
      "outputs": [
        {
          "name": "stdout",
          "output_type": "stream",
          "text": [
            "tensor(0.5510)\n",
            "tensor(0.5260)\n"
          ]
        }
      ],
      "source": [
        "print(torch.mean(train_target.float()))\n",
        "print(torch.mean(test_target.float()))"
      ]
    },
    {
      "cell_type": "code",
      "execution_count": 6,
      "metadata": {
        "colab": {
          "base_uri": "https://localhost:8080/"
        },
        "id": "5kP4ZtTEs60m",
        "outputId": "72357b2a-c70f-443f-9af2-ae91c014ed95"
      },
      "outputs": [
        {
          "name": "stdout",
          "output_type": "stream",
          "text": [
            "Baseline accuracy: 52.60%\n"
          ]
        }
      ],
      "source": [
        "baseline_target_pred = torch.ones_like(train_target)\n",
        "\n",
        "# compute accuracy of the baseline and the test target\n",
        "acc = 100 * (baseline_target_pred == test_target).sum().item() / test_target.shape[0]\n",
        "print(f\"Baseline accuracy: {acc:.2f}%\")"
      ]
    },
    {
      "cell_type": "markdown",
      "metadata": {
        "id": "-YNHVVgos60n"
      },
      "source": [
        "### Convolution Network with Auxiliary Loss"
      ]
    },
    {
      "cell_type": "code",
      "execution_count": 7,
      "metadata": {
        "colab": {
          "base_uri": "https://localhost:8080/"
        },
        "id": "RYiBWKe4s60o",
        "outputId": "0419205d-e36e-48e0-a460-1b2ab45bd638"
      },
      "outputs": [
        {
          "data": {
            "text/plain": [
              "False"
            ]
          },
          "execution_count": 7,
          "metadata": {},
          "output_type": "execute_result"
        }
      ],
      "source": [
        "torch.cuda.is_available()"
      ]
    },
    {
      "cell_type": "code",
      "execution_count": 41,
      "metadata": {
        "id": "BFrrjwKZs60p"
      },
      "outputs": [],
      "source": [
        "class Net(nn.Module):\n",
        "   def __init__(self):\n",
        "      super().__init__()\n",
        "      \n",
        "      self.conv1 = nn.Conv2d(1, 16, 3)\n",
        "      self.pool1 = nn.MaxPool2d(2)\n",
        "      self.conv2 = nn.Conv2d(16, 32, 3)\n",
        "      self.conv3 = nn.Conv2d(32, 60, 3)\n",
        "      \n",
        "      self.fc1 = nn.Linear(60*2*2, 60)\n",
        "      self.fc2 = nn.Linear(60, 30)\n",
        "      \n",
        "      # self.fc_target = nn.Linear(2, 1) # for target prediction\n",
        "      \n",
        "      self.fc_target1 = nn.Linear(20, 12) # for target prediction\n",
        "      self.fc_target2 = nn.Linear(12, 1) \n",
        "      # self.fc_target3 = nn.Linear(8, 1) \n",
        "      \n",
        "      self.fc_d = nn.Linear(30,10) # for auxilary loss\n",
        "     \n",
        "   def forward(self, data):\n",
        "      x = torch.narrow(data,dim=1,start=0,length=1)\n",
        "      y = torch.narrow(data,dim=1,start=1,length=1)\n",
        "      \n",
        "      \n",
        "      x = self.pool1(F.relu(self.conv1(x)))\n",
        "      x = F.relu(self.conv2(x))\n",
        "      x = F.relu(self.conv3(x) )\n",
        "      x = x.view(x.size(0), -1)\n",
        "\n",
        "      \n",
        "      y = self.pool1(F.relu(self.conv1(y)))\n",
        "      y = F.relu(self.conv2(y))\n",
        "      y = F.relu(self.conv3(y))\n",
        "      y = y.view(y.size(0), -1)\n",
        "      \n",
        "      emb_x = F.relu(self.fc_d(F.relu(self.fc2(F.relu(self.fc1(x))))))\n",
        "      res_emb_x = torch.log_softmax(emb_x, dim = 1)\n",
        "      \n",
        "      emb_y = F.relu(self.fc_d(F.relu(self.fc2(F.relu(self.fc1(y))))))\n",
        "      res_emb_y = torch.log_softmax(emb_y, dim = 1)\n",
        "      \n",
        "      \n",
        "      # emb_x = torch.softmax(self.fc_d(emb_x), dim = 1).argmax().unsqueeze(0).type(torch.float)\n",
        "      # cemb_y = torch.softmax(F.relu(self.fc_d(emb_y)), dim = 1).argmax().unsqueeze(0).type(torch.float)\n",
        "      \n",
        "      z = torch.cat((emb_x,emb_y),1)\n",
        "      \n",
        "      # 1. add fc layers to z\n",
        "      z = F.relu(self.fc_target1(z))\n",
        "      z = F.relu(self.fc_target2(z))\n",
        "      res = torch.sigmoid(z)\n",
        "      \n",
        "      # z = torch.cat((x,y), 1)\n",
        "      # z = F.relu(self.fc1(z))\n",
        "      # z = F.relu(self.fc2(z))\n",
        "      # emb_x = torch.softmax(F.relu(self.fc4(z)), dim = 1)\n",
        "      # emb_y = torch.softmax(F.relu(self.fc4(z)), dim = 1)\n",
        "      # res = torch.sigmoid(self.fc3(z))\n",
        "      return res_emb_x, res_emb_y, res"
      ]
    },
    {
      "cell_type": "code",
      "execution_count": 9,
      "metadata": {
        "id": "6pcG_dCks60q"
      },
      "outputs": [],
      "source": [
        "class Net_bis(nn.Module):\n",
        "   def __init__(self):\n",
        "      super().__init__()\n",
        "      \n",
        "      self.conv1 = nn.Conv2d(1, 16, 3)\n",
        "      self.pool1 = nn.MaxPool2d(2)\n",
        "      self.conv2 = nn.Conv2d(16, 32, 3)\n",
        "      self.conv3 = nn.Conv2d(32, 64, 3)\n",
        "      \n",
        "      self.fc1 = nn.Linear(64*2*2*2, 80)\n",
        "      self.fc2 = nn.Linear(80, 40)\n",
        "      \n",
        "      self.fc3 = nn.Linear(40, 1) # for target prediction\n",
        "      self.fc4 = nn.Linear(40,10) # for auxilary loss\n",
        "      \n",
        "      \n",
        "      \n",
        "   def forward(self, data):\n",
        "      x = torch.narrow(data,dim=1,start=0,length=1)\n",
        "      y = torch.narrow(data,dim=1,start=1,length=1)\n",
        "      \n",
        "      \n",
        "      x = self.pool1(F.relu(self.conv1(x)))\n",
        "      x = F.relu(self.conv2(x))\n",
        "      x = F.relu(self.conv3(x) )\n",
        "      x = x.view(x.size(0), -1)\n",
        "\n",
        "      \n",
        "      y = self.pool1(F.relu(self.conv1(y)))\n",
        "      y = F.relu(self.conv2(y))\n",
        "      y = F.relu(self.conv3(y))\n",
        "      y = y.view(y.size(0), -1)\n",
        "      \n",
        "      z = torch.cat((x,y), 1)\n",
        "      \n",
        "      z = F.relu(self.fc1(z))\n",
        "      z = F.relu(self.fc2(z))\n",
        "      res = torch.sigmoid(self.fc3(z))\n",
        "\n",
        "      emb_x = torch.softmax(F.relu(self.fc4(z)), dim = 1)\n",
        "      emb_y = torch.softmax(F.relu(self.fc4(z)), dim = 1)\n",
        "      return emb_x, emb_y, res"
      ]
    },
    {
      "cell_type": "code",
      "execution_count": 17,
      "metadata": {
        "id": "VW3XS4QKs60r"
      },
      "outputs": [],
      "source": [
        "tb = SummaryWriter('runs/aux_loss/graph')\n",
        "model_view = Net()\n",
        "trainloader, testloader = load_data()\n",
        "images, labels,classes = next(iter(trainloader))\n",
        "# grid = torchvision.utils.make_grid(images)\n",
        "# tb.add_image(\"images\", grid)\n",
        "tb.add_graph(model_view, images)\n",
        "tb.close()"
      ]
    },
    {
      "cell_type": "code",
      "execution_count": 11,
      "metadata": {
        "id": "pp5B2oens60r"
      },
      "outputs": [],
      "source": [
        "def test_accuracy(net, testloader):\n",
        "\n",
        "    acc = 0\n",
        "    for i, data in enumerate(testloader, 0):\n",
        "        \n",
        "        inputs, labels, classes = data\n",
        "\n",
        "        device = torch.device(\"cuda:0\" if torch.cuda.is_available() else \"cpu\")\n",
        "        inputs, labels, classes = inputs.to(device), labels.to(device), classes.to(device)\n",
        "    \n",
        "        _,_,output_z = net(inputs)\n",
        "        equality = (labels.reshape(-1, 1) == output_z.round().to(torch.int))\n",
        "        acc += equality.to(torch.float).mean()\n",
        "\n",
        "    return acc.item() / (i+1)\n",
        "\n",
        "# acc = test_accuracy(net, testloader)\n",
        "# print(f'Accuracy of the network on the {(i+1)*testloader.batch_size} test images: {100*acc:.1f} %')"
      ]
    },
    {
      "cell_type": "code",
      "execution_count": 15,
      "metadata": {
        "id": "-IwMiAmps60s"
      },
      "outputs": [],
      "source": [
        "\n",
        "# net = Net()\n",
        "\n",
        "def train_model(model, trainloader,testloader, num_epochs=25,tb_dir=None):\n",
        "        \n",
        "    criterion = nn.BCELoss()\n",
        "    aux_criterion = nn.CrossEntropyLoss()\n",
        "    optimizer = optim.Adam(model.parameters(), lr=0.001)\n",
        "    \n",
        "    device = torch.device(\"cuda:0\" if torch.cuda.is_available() else \"cpu\")\n",
        "    model.to(device)\n",
        "    \n",
        "    tb = SummaryWriter(tb_dir)\n",
        "    \n",
        "    for epoch in range(num_epochs):  # loop over the dataset multiple times\n",
        "\n",
        "        running_loss = 0.0\n",
        "        for i, data in enumerate(trainloader, 0):\n",
        "            \n",
        "            inputs, labels,classes = data\n",
        "\n",
        "            inputs, labels, classes = inputs.to(device), labels.to(device), classes.to(device)\n",
        "            \n",
        "            # optimizer.zero_grad()   # zero the gradient buffers\n",
        "            \n",
        "            # Pytorch: The second code snippet does not zero the memory of each individual parameter,\n",
        "            # also the subsequent backward pass uses assignment instead of addition to store gradients,\n",
        "            # this reduces the number of memory operations.\n",
        "            for param in model.parameters():\n",
        "                param.grad = None\n",
        "            \n",
        "            \n",
        "            output_x,output_y,output_z = model(inputs)\n",
        "                    \n",
        "                                \n",
        "            # TODO : COMPUTE LOSS\n",
        "          \n",
        "            loss_x = aux_criterion(output_x, classes[:,0])\n",
        "            loss_y = aux_criterion(output_y, classes[:,1])\n",
        "\n",
        "            loss_z = criterion(output_z, labels.reshape(-1,1).type_as(output_z[:,:10]))\n",
        "            loss = 0.2*loss_x + 0.2*loss_y + 0.6*loss_z\n",
        "            \n",
        "            loss.backward()\n",
        "            optimizer.step()\n",
        "            \n",
        "            # print statistics\n",
        "            running_loss += loss.item()\n",
        "            if i % 10 == 0:    # print every 2000 mini-batches\n",
        "                print('[%d / %d, %5d] loss: %.3f' % \n",
        "                    (epoch + 1,num_epochs, i + 1, running_loss / (1000/trainloader.batch_size)), end='\\r')\n",
        "                running_loss = 0.0\n",
        "        \n",
        "        train_acc = test_accuracy(model, trainloader)\n",
        "        test_acc = test_accuracy(model, testloader)\n",
        "        \n",
        "        tb.add_scalar(\"Loss\", loss, epoch)\n",
        "        # tb.add_scalar(\"Accuracy\", train_acc, epoch, \"train\")\n",
        "        # tb.add_scalar(\"Accuracy\", test_acc, epoch, \"test\")\n",
        "        \n",
        "        tb.add_scalars(\"Accuracy\", {\"train\": train_acc, \"test\": test_acc}, epoch)\n",
        "\n",
        "        tb.add_histogram(\"conv1.bias\", model.conv1.bias, epoch)\n",
        "        tb.add_histogram(\"conv1.weight\", model.conv1.weight, epoch)\n",
        "        tb.add_histogram(\"conv2.bias\", model.conv2.bias, epoch)\n",
        "        tb.add_histogram(\"conv2.weight\", model.conv2.weight, epoch)\n",
        "        \n",
        "        tb.add_histogram(\"fc1.bias\", model.fc1.bias, epoch)\n",
        "        tb.add_histogram(\"fc1.weight\", model.fc1.weight, epoch)\n",
        "        tb.add_histogram(\"fc2.bias\", model.fc2.bias, epoch)\n",
        "        tb.add_histogram(\"fc2.weight\", model.fc2.weight, epoch)\n",
        "        \n",
        "        tb.add_histogram(\"fc_d.bias\", model.fc_d.bias, epoch)\n",
        "        tb.add_histogram(\"fc_d.weight\", model.fc_d.weight, epoch)\n",
        "        \n",
        "        tb.add_histogram(\"fc_target1.weight\", model.fc_target1.weight, epoch)\n",
        "        tb.add_histogram(\"fc_target1.bias\", model.fc_target1.bias, epoch)\n",
        "        tb.add_histogram(\"fc_target2.weight\", model.fc_target2.weight, epoch)\n",
        "        tb.add_histogram(\"fc_target2.bias\", model.fc_target2.bias, epoch)\n",
        "        # tb.add_histogram(\"fc_target3.weight\", model.fc_target3.weight, epoch)\n",
        "        # tb.add_histogram(\"fc_target3.bias\", model.fc_target3.bias, epoch)\n",
        "        \n",
        "    tb.close()\n",
        "            "
      ]
    },
    {
      "cell_type": "code",
      "execution_count": null,
      "metadata": {
        "id": "_xiz_jCss60s"
      },
      "outputs": [],
      "source": [
        "# test model 10 times and save accuracies for mean and std\n",
        "accuracies = []\n",
        "ROUNDS = 10\n",
        "for i in range(ROUNDS):\n",
        "    # load data\n",
        "    trainloader, testloader = load_data(batch_size=20)\n",
        "    net = Net()\n",
        "    train_model(net, trainloader,testloader, num_epochs=25, tb_dir=f'./runs/aux_loss/run_{i+1}')\n",
        "    acc = test_accuracy(net, testloader)\n",
        "    accuracies.append(acc*100)\n",
        "    print(f'\\n Accuracies [%]: [{\", \".join([f\"{acc:.3f}\" for acc in accuracies])}]')"
      ]
    },
    {
      "cell_type": "code",
      "execution_count": 50,
      "metadata": {
        "colab": {
          "base_uri": "https://localhost:8080/",
          "height": 330
        },
        "id": "lti8aWBds60t",
        "outputId": "07e7e11b-70c5-4dab-f42d-4c2a2681aaeb"
      },
      "outputs": [
        {
          "name": "stdout",
          "output_type": "stream",
          "text": [
            "Mean accuracy of the network on the 1000 test images:     83.5 % (+/- 8.8 %)\n"
          ]
        },
        {
          "data": {
            "text/plain": [
              "<matplotlib.legend.Legend at 0x7f6438f814c0>"
            ]
          },
          "execution_count": 50,
          "metadata": {},
          "output_type": "execute_result"
        },
        {
          "data": {
            "image/png": "[encoded data removed]",
            "text/plain": [
              "<Figure size 432x288 with 1 Axes>"
            ]
          },
          "metadata": {
            "needs_background": "light"
          },
          "output_type": "display_data"
        }
      ],
      "source": [
        "print(f'Mean accuracy of the network on the {len(testloader.dataset)} test images: \\\n",
        "    {torch.mean(torch.tensor(accuracies)):.1f} % (+/- {torch.std(torch.tensor(accuracies)):.1f} %)')\n",
        "\n",
        "mean = np.mean(accuracies)\n",
        "std = np.std(accuracies)\n",
        "# plot accuracies and fill_between std\n",
        "plt.figure()\n",
        "plt.plot(accuracies)\n",
        "plt.fill_between(range(len(accuracies)), mean-std, mean+std, alpha=0.2)\n",
        "plt.legend([f'Mean: {mean:.3f} %', f'Std: {std:.3f} %'])\n",
        "plt.xlabel('Round')\n",
        "plt.ylabel('Accuracy [%]')\n",
        "plt.ylim([50,100])\n",
        "plt.title('Accuracy of the network on the test images')\n",
        "plt.legend(['Mean accuracy', 'Std'])\n",
        "\n"
      ]
    },
    {
      "cell_type": "code",
      "execution_count": 52,
      "metadata": {
        "colab": {
          "base_uri": "https://localhost:8080/",
          "height": 282
        },
        "id": "fe6doKRFs60u",
        "outputId": "9b6f91df-9034-4f97-a5f2-199ddd409392"
      },
      "outputs": [
        {
          "data": {
            "text/plain": [
              "<matplotlib.legend.Legend at 0x7f6438f66e50>"
            ]
          },
          "execution_count": 52,
          "metadata": {},
          "output_type": "execute_result"
        },
        {
          "data": {
            "image/png": "[encoded data removed]",
            "text/plain": [
              "<Figure size 432x288 with 1 Axes>"
            ]
          },
          "metadata": {
            "needs_background": "light"
          },
          "output_type": "display_data"
        }
      ],
      "source": [
        "mean = np.mean(accuracies)\n",
        "std = np.std(accuracies)\n",
        "\n",
        "plt.hist(accuracies, bins='auto')\n",
        "# plt.fill_between(range(len(accuracies)), mean-std, mean+std, alpha=0.2)\n",
        "plt.legend([f'Mean: {mean:.3f} %', f'Std: {std:.3f} %'])"
      ]
    },
    {
      "cell_type": "code",
      "execution_count": 53,
      "metadata": {
        "colab": {
          "base_uri": "https://localhost:8080/"
        },
        "id": "C5lEzgTfs60u",
        "outputId": "1d343d0a-2685-499a-f816-6a35454b1b55"
      },
      "outputs": [
        {
          "name": "stdout",
          "output_type": "stream",
          "text": [
            "----------------------------------------------------------------\n",
            "        Layer (type)               Output Shape         Param #\n",
            "================================================================\n",
            "            Conv2d-1           [-1, 16, 12, 12]             160\n",
            "         MaxPool2d-2             [-1, 16, 6, 6]               0\n",
            "            Conv2d-3             [-1, 32, 4, 4]           4,640\n",
            "            Conv2d-4             [-1, 60, 2, 2]          17,340\n",
            "            Conv2d-5           [-1, 16, 12, 12]             160\n",
            "         MaxPool2d-6             [-1, 16, 6, 6]               0\n",
            "            Conv2d-7             [-1, 32, 4, 4]           4,640\n",
            "            Conv2d-8             [-1, 60, 2, 2]          17,340\n",
            "            Linear-9                   [-1, 60]          14,460\n",
            "           Linear-10                   [-1, 30]           1,830\n",
            "           Linear-11                   [-1, 10]             310\n",
            "           Linear-12                   [-1, 60]          14,460\n",
            "           Linear-13                   [-1, 30]           1,830\n",
            "           Linear-14                   [-1, 10]             310\n",
            "           Linear-15                   [-1, 12]             252\n",
            "           Linear-16                    [-1, 1]              13\n",
            "================================================================\n",
            "Total params: 77,745\n",
            "Trainable params: 77,745\n",
            "Non-trainable params: 0\n",
            "----------------------------------------------------------------\n",
            "Input size (MB): 0.00\n",
            "Forward/backward pass size (MB): 0.06\n",
            "Params size (MB): 0.30\n",
            "Estimated Total Size (MB): 0.36\n",
            "----------------------------------------------------------------\n"
          ]
        }
      ],
      "source": [
        "from torchsummary import summary\n",
        "model_view = Net()\n",
        "summary(model_view,(2,14,14))"
      ]
    },
    {
      "cell_type": "markdown",
      "metadata": {
        "id": "Af6Y1_lTs60v"
      },
      "source": [
        "### model saving"
      ]
    },
    {
      "cell_type": "code",
      "execution_count": 54,
      "metadata": {
        "id": "C_8JOlajs60v"
      },
      "outputs": [],
      "source": [
        "# save model parameters\n",
        "torch.save(net.state_dict(), './Models/cnn_aux_loss.pt')"
      ]
    },
    {
      "cell_type": "code",
      "execution_count": 55,
      "metadata": {
        "colab": {
          "base_uri": "https://localhost:8080/"
        },
        "id": "kP8n8S6xs60v",
        "outputId": "9d58b0de-ca5f-41f3-de29-652390fcaf88"
      },
      "outputs": [
        {
          "data": {
            "text/plain": [
              "Net(\n",
              "  (conv1): Conv2d(1, 16, kernel_size=(3, 3), stride=(1, 1))\n",
              "  (pool1): MaxPool2d(kernel_size=2, stride=2, padding=0, dilation=1, ceil_mode=False)\n",
              "  (conv2): Conv2d(16, 32, kernel_size=(3, 3), stride=(1, 1))\n",
              "  (conv3): Conv2d(32, 60, kernel_size=(3, 3), stride=(1, 1))\n",
              "  (fc1): Linear(in_features=240, out_features=60, bias=True)\n",
              "  (fc2): Linear(in_features=60, out_features=30, bias=True)\n",
              "  (fc_target1): Linear(in_features=20, out_features=12, bias=True)\n",
              "  (fc_target2): Linear(in_features=12, out_features=1, bias=True)\n",
              "  (fc_d): Linear(in_features=30, out_features=10, bias=True)\n",
              ")"
            ]
          },
          "execution_count": 55,
          "metadata": {},
          "output_type": "execute_result"
        }
      ],
      "source": [
        "# load model parameters\n",
        "model1 = Net()\n",
        "model1.load_state_dict(torch.load('./Models/cnn_aux_loss.pt'))\n",
        "model1.eval()"
      ]
    }
  ],
  "metadata": {
    "colab": {
      "provenance": []
    },
    "kernelspec": {
      "display_name": "env",
      "language": "python",
      "name": "python3"
    },
    "language_info": {
      "codemirror_mode": {
        "name": "ipython",
        "version": 3
      },
      "file_extension": ".py",
      "mimetype": "text/x-python",
      "name": "python",
      "nbconvert_exporter": "python",
      "pygments_lexer": "ipython3",
      "version": "3.10.7 (tags/v3.10.7:6cc6b13, Sep  5 2022, 14:08:36) [MSC v.1933 64 bit (AMD64)]"
    },
    "orig_nbformat": 4,
    "vscode": {
      "interpreter": {
        "hash": "1df14ab64c8b80a00633eb588e502182d4703a9c23e6ea3c6fedede8ab1fffa5"
      }
    }
  },
  "nbformat": 4,
  "nbformat_minor": 0
}
