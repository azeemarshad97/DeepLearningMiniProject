{
 "cells": [
  {
   "cell_type": "code",
   "execution_count": 1,
   "metadata": {},
   "outputs": [],
   "source": [
    "import multiprocessing\n",
    "\n",
    "import matplotlib.pyplot as plt\n",
    "import numpy\n",
    "import numpy as np\n",
    "import torch\n",
    "import torch.nn as nn\n",
    "import torch.nn.functional as F\n",
    "import torch.optim as optim\n",
    "from torch.utils.data import Dataset, TensorDataset\n",
    "from torch.utils.tensorboard import SummaryWriter\n",
    "from torchsummary import summary\n",
    "from torchvision import transforms\n",
    "\n",
    "import utils.dlc_practical_prologue as prologue\n",
    "\n",
    "\n",
    "%load_ext autoreload\n",
    "%autoreload 2"
   ]
  },
  {
   "cell_type": "code",
   "execution_count": 2,
   "metadata": {},
   "outputs": [],
   "source": [
    "def load_data(batch_size=20):\n",
    "    transform = transforms.Compose(\n",
    "    [\n",
    "        # transforms.ToTensor(),\n",
    "        transforms.Lambda(lambda x: x.div(255))]\n",
    "    )\n",
    "\n",
    "    train_input, train_target, train_classes,\\\n",
    "        test_input, test_target, test_classes = prologue.generate_pair_sets(\n",
    "            1000, transform=transform)\n",
    "\n",
    "    trainset = TensorDataset(train_input, train_target)\n",
    "    testset = TensorDataset(test_input, test_target)\n",
    "\n",
    "    trainloader = torch.utils.data.DataLoader(\n",
    "        trainset, batch_size=batch_size, shuffle=True, num_workers= 1)\n",
    "    testloader = torch.utils.data.DataLoader(\n",
    "        testset, batch_size=batch_size, shuffle=True, num_workers= 1)\n",
    "    \n",
    "    return trainloader, testloader"
   ]
  },
  {
   "cell_type": "code",
   "execution_count": 3,
   "metadata": {},
   "outputs": [
    {
     "data": {
      "image/png": "[encoded data removed]",
      "text/plain": [
       "<Figure size 640x480 with 2 Axes>"
      ]
     },
     "metadata": {},
     "output_type": "display_data"
    },
    {
     "name": "stdout",
     "output_type": "stream",
     "text": [
      "Train input shapetorch.Size([1000, 2, 14, 14])\n",
      "Train target shapetorch.Size([1000])\n",
      "Train classes shapetorch.Size([1000, 2])\n",
      "---\n",
      "Test input shape torch.Size([1000, 2, 14, 14])\n",
      "Test target shape torch.Size([1000])\n",
      "Test classes shape torch.Size([1000, 2])\n"
     ]
    }
   ],
   "source": [
    "BATCH_SIZE = 50\n",
    "\n",
    "transform = transforms.Compose(\n",
    "    [\n",
    "        # transforms.ToTensor(),\n",
    "        transforms.Lambda(lambda x: x.div(255))]\n",
    ")\n",
    "\n",
    "train_input, train_target, train_classes,\\\n",
    "    test_input, test_target, test_classes = prologue.generate_pair_sets(\n",
    "        1000, transform=transform)\n",
    "\n",
    "\n",
    "trainset = TensorDataset(train_input, train_target)\n",
    "testset = TensorDataset(test_input, test_target)\n",
    "\n",
    "trainloader = torch.utils.data.DataLoader(\n",
    "    trainset, batch_size=BATCH_SIZE, shuffle=True, num_workers= 1)\n",
    "testloader = torch.utils.data.DataLoader(\n",
    "    testset, batch_size=BATCH_SIZE, shuffle=False, num_workers= 1)\n",
    "\n",
    "\n",
    "# Plotting the first 5 pairs of images\n",
    "for i in range(1):\n",
    "    for j in range(2):\n",
    "        plt.subplot(1, 2, j+1)\n",
    "        plt.imshow(train_input[i, j].view(14, 14), cmap='gray')\n",
    "        # plot the target and its class in the title\n",
    "        plt.suptitle(f\"Target: {train_target[i]}\")\n",
    "        plt.title(f' Class: {train_classes[i, j]}')\n",
    "        plt.axis('off')\n",
    "    plt.show()\n",
    "\n",
    "# print the shapes of the tensors\n",
    "print(f\"Train input shape{train_input.shape}\")\n",
    "print(f\"Train target shape{train_target.shape}\")\n",
    "print(f\"Train classes shape{train_classes.shape}\")\n",
    "print('---')\n",
    "print(f\"Test input shape {test_input.shape}\")\n",
    "print(f\"Test target shape {test_target.shape}\")\n",
    "print(f\"Test classes shape {test_classes.shape}\")\n"
   ]
  },
  {
   "cell_type": "markdown",
   "metadata": {},
   "source": [
    "## Examine data format and normalize"
   ]
  },
  {
   "cell_type": "code",
   "execution_count": 4,
   "metadata": {},
   "outputs": [
    {
     "name": "stdout",
     "output_type": "stream",
     "text": [
      "torch.Size([14, 14])\n",
      "torch.float32\n",
      "tensor(0.9931)\n",
      "tensor(0.)\n"
     ]
    }
   ],
   "source": [
    "print(train_input[0,1].shape)\n",
    "print(train_input[0,1].dtype)\n",
    "print(train_input[0,1].max())\n",
    "print(train_input[0,1].min())"
   ]
  },
  {
   "cell_type": "markdown",
   "metadata": {},
   "source": [
    "### Baseline"
   ]
  },
  {
   "cell_type": "code",
   "execution_count": 5,
   "metadata": {},
   "outputs": [
    {
     "name": "stdout",
     "output_type": "stream",
     "text": [
      "tensor(0.5510)\n",
      "tensor(0.5260)\n"
     ]
    }
   ],
   "source": [
    "print(torch.mean(train_target.float()))\n",
    "print(torch.mean(test_target.float()))"
   ]
  },
  {
   "cell_type": "code",
   "execution_count": 6,
   "metadata": {},
   "outputs": [
    {
     "name": "stdout",
     "output_type": "stream",
     "text": [
      "Baseline accuracy: 52.60%\n"
     ]
    }
   ],
   "source": [
    "baseline_target_pred = torch.ones_like(train_target)\n",
    "\n",
    "# compute accuracy of the baseline and the test target\n",
    "acc = 100 * (baseline_target_pred == test_target).sum().item() / test_target.shape[0]\n",
    "print(f\"Baseline accuracy: {acc:.2f}%\")"
   ]
  },
  {
   "attachments": {},
   "cell_type": "markdown",
   "metadata": {},
   "source": [
    "### Convnet with Weight Sharing"
   ]
  },
  {
   "cell_type": "code",
   "execution_count": 7,
   "metadata": {},
   "outputs": [
    {
     "data": {
      "text/plain": [
       "False"
      ]
     },
     "execution_count": 7,
     "metadata": {},
     "output_type": "execute_result"
    }
   ],
   "source": [
    "torch.cuda.is_available()"
   ]
  },
  {
   "cell_type": "code",
   "execution_count": 8,
   "metadata": {},
   "outputs": [],
   "source": [
    "class Net(nn.Module):\n",
    "   def __init__(self):\n",
    "      super().__init__()\n",
    "      \n",
    "      self.conv1 = nn.Conv2d(1, 16, 3)\n",
    "      self.pool1 = nn.MaxPool2d(2)\n",
    "      self.conv2 = nn.Conv2d(16, 32, 3)\n",
    "      self.conv3 = nn.Conv2d(32, 64, 3)\n",
    "      \n",
    "      \n",
    "      self.fc1 = nn.Linear(64*2*2*2, 80)\n",
    "      self.fc2 = nn.Linear(80, 40)\n",
    "      self.fc3 = nn.Linear(40, 1)\n",
    "      \n",
    "   def forward(self, data):\n",
    "      x = torch.narrow(data,dim=1,start=0,length=1)\n",
    "      y = torch.narrow(data,dim=1,start=1,length=1)\n",
    "      \n",
    "      \n",
    "      x = self.pool1(F.relu(self.conv1(x)))\n",
    "      x = F.relu(self.conv2(x))\n",
    "      x = F.relu(self.conv3(x) )\n",
    "      x = x.view(x.size(0), -1)\n",
    "      \n",
    "      \n",
    "      y = self.pool1(F.relu(self.conv1(y)))\n",
    "      y = F.relu(self.conv2(y))\n",
    "      y = F.relu(self.conv3(y) )\n",
    "      y = y.view(y.size(0), -1)\n",
    "      \n",
    "      \n",
    "      z = torch.cat((x,y), 1)\n",
    "      \n",
    "      z = F.relu(self.fc1(z))\n",
    "      z = F.relu(self.fc2(z))\n",
    "      \n",
    "      z = torch.sigmoid(self.fc3(z))\n",
    "      return z"
   ]
  },
  {
   "cell_type": "code",
   "execution_count": 10,
   "metadata": {},
   "outputs": [],
   "source": [
    "tb = SummaryWriter('./runs/weight_sharing/graph/')\n",
    "model_view = Net()\n",
    "trainloader, testloader = load_data()\n",
    "images, labels = next(iter(trainloader))\n",
    "tb.add_graph(model_view, images)\n",
    "tb.close()"
   ]
  },
  {
   "cell_type": "code",
   "execution_count": 11,
   "metadata": {},
   "outputs": [],
   "source": [
    "def test_accuracy(net, testloader):\n",
    "\n",
    "    acc = 0\n",
    "    for i, data in enumerate(testloader, 0):\n",
    "        \n",
    "        inputs, labels = data\n",
    "        device = torch.device(\"cuda:0\" if torch.cuda.is_available() else \"cpu\")\n",
    "        inputs, labels = inputs.to(device), labels.to(device)\n",
    "    \n",
    "        outputs = net(inputs)\n",
    "        equality = (labels.reshape(-1, 1) == outputs.round().to(torch.int))\n",
    "        acc += equality.to(torch.float).mean()\n",
    "\n",
    "    return acc.item() / (i+1)"
   ]
  },
  {
   "cell_type": "code",
   "execution_count": 12,
   "metadata": {},
   "outputs": [],
   "source": [
    "def train_model(model, trainloader, testloader, num_epochs=25, tb_dir=None ):\n",
    "    \n",
    "    criterion = nn.BCELoss()\n",
    "    # optimizer = optim.SGD(net.parameters(), lr=0.001, momentum=0.5)\n",
    "    optimizer = optim.Adam(model.parameters(), lr=0.001)\n",
    "\n",
    "    device = torch.device(\"cuda:0\" if torch.cuda.is_available() else \"cpu\")\n",
    "    # print(device)\n",
    "\n",
    "    model.to(device)\n",
    "    \n",
    "    # add summary writer in separate folder with differnet name\n",
    "    tb = SummaryWriter(tb_dir)\n",
    "    \n",
    "    for epoch in range(num_epochs):  \n",
    "\n",
    "        running_loss = 0.0\n",
    "        for i, data in enumerate(trainloader, 0):\n",
    "            \n",
    "            inputs, labels = data\n",
    "            inputs, labels = inputs.to(device), labels.to(device)\n",
    "            \n",
    "            optimizer.zero_grad()   # zero the gradient buffers\n",
    "            outputs = model(inputs)\n",
    "            \n",
    "            loss = criterion(outputs, labels.reshape(-1, 1).type_as(outputs))\n",
    "            loss.backward()\n",
    "        \n",
    "            optimizer.step()\n",
    "\n",
    "\n",
    "            # print statistics\n",
    "            running_loss += loss.item()\n",
    "            if i % 10 == 0:    # print every 2000 mini-batches\n",
    "                print('[%d/ %d, %5d] loss: %.3f' % \n",
    "                    (epoch + 1,num_epochs, i + 1, running_loss / (1000/trainloader.batch_size)), end='\\r')\n",
    "                running_loss = 0.0\n",
    "        \n",
    "        \n",
    "        train_acc = test_accuracy(model, trainloader)\n",
    "        test_acc = test_accuracy(model, testloader)\n",
    "        \n",
    "        tb.add_scalar(\"Loss\", loss, epoch)\n",
    "        tb.add_scalars(\"Accuracy\", {\"train\": train_acc, \"test\": test_acc}, epoch)\n",
    "\n",
    "        tb.add_histogram(\"conv1.bias\", model.conv1.bias, epoch)\n",
    "        tb.add_histogram(\"conv1.weight\", model.conv1.weight, epoch)\n",
    "        tb.add_histogram(\"conv2.bias\", model.conv2.bias, epoch)\n",
    "        tb.add_histogram(\"conv2.weight\", model.conv2.weight, epoch)\n",
    "        tb.add_histogram(\"conv3.bias\", model.conv3.bias, epoch)\n",
    "        tb.add_histogram(\"conv3.weight\", model.conv3.weight, epoch)\n",
    "        \n",
    "        tb.add_histogram(\"fc1.bias\", model.fc1.bias, epoch)\n",
    "        tb.add_histogram(\"fc1.weight\", model.fc1.weight, epoch)\n",
    "        tb.add_histogram(\"fc2.bias\", model.fc2.bias, epoch)\n",
    "        tb.add_histogram(\"fc2.weight\", model.fc2.weight, epoch)\n",
    "        tb.add_histogram(\"fc3.bias\", model.fc3.bias, epoch)\n",
    "        tb.add_histogram(\"fc3.weight\", model.fc3.weight, epoch)\n",
    "        \n",
    "    tb.close()"
   ]
  },
  {
   "attachments": {},
   "cell_type": "markdown",
   "metadata": {},
   "source": [
    "### Performance Evaluation"
   ]
  },
  {
   "cell_type": "code",
   "execution_count": 21,
   "metadata": {},
   "outputs": [
    {
     "name": "stdout",
     "output_type": "stream",
     "text": [
      "Accuracies: [86.000, 85.700, 83.200, 85.200, 85.100, 83.600, 86.400, 86.500, 84.100, 86.300]\r"
     ]
    }
   ],
   "source": [
    "accuracies = []\n",
    "ROUNDS = 10\n",
    "for i in range(ROUNDS):\n",
    "    trainloader, testloader = load_data(batch_size=20)\n",
    "    net = Net()\n",
    "    train_model(net, trainloader,testloader, num_epochs=25, tb_dir=f'./runs/weight_sharing/round_{i}/')\n",
    "    acc = test_accuracy(net, testloader)\n",
    "    accuracies.append(acc*100)\n",
    "    print(f'Accuracies: [{\", \".join([f\"{acc:.3f}\" for acc in accuracies])}]', end='\\r')"
   ]
  },
  {
   "cell_type": "code",
   "execution_count": 7,
   "metadata": {},
   "outputs": [
    {
     "name": "stdout",
     "output_type": "stream",
     "text": [
      "Mean accuracy of the network on the 1000 test images:     85.2 % (+/- 1.2 %)\n"
     ]
    },
    {
     "data": {
      "text/plain": [
       "Text(0.5, 1.0, 'Accuracy of the network on the test images')"
      ]
     },
     "execution_count": 7,
     "metadata": {},
     "output_type": "execute_result"
    },
    {
     "data": {
      "image/png": "[encoded data removed]",
      "text/plain": [
       "<Figure size 640x480 with 1 Axes>"
      ]
     },
     "metadata": {},
     "output_type": "display_data"
    }
   ],
   "source": [
    "print(f'Mean accuracy of the network on the {len(testloader.dataset)} test images: \\\n",
    "    {torch.mean(torch.tensor(accuracies)):.1f} % (+/- {torch.std(torch.tensor(accuracies)):.1f} %)')\n",
    "\n",
    "mean = np.mean(accuracies)\n",
    "std = np.std(accuracies)\n",
    "\n",
    "plt.figure()\n",
    "plt.plot(accuracies)\n",
    "plt.fill_between(range(len(accuracies)), mean-std, mean+std, alpha=0.2)\n",
    "plt.legend([f'Mean: {mean:.3f} %', f'Std: {std:.3f} %'])\n",
    "plt.xlabel('Round')\n",
    "plt.ylabel('Accuracy [%]')\n",
    "plt.ylim((70, 100))\n",
    "\n",
    "plt.title('Accuracy of the network on the test images')"
   ]
  },
  {
   "cell_type": "code",
   "execution_count": 17,
   "metadata": {},
   "outputs": [
    {
     "name": "stdout",
     "output_type": "stream",
     "text": [
      "=================================================================\n",
      "Layer (type:depth-idx)                   Param #\n",
      "=================================================================\n",
      "├─Conv2d: 1-1                            160\n",
      "├─MaxPool2d: 1-2                         --\n",
      "├─Conv2d: 1-3                            4,640\n",
      "├─Conv2d: 1-4                            18,496\n",
      "├─Linear: 1-5                            41,040\n",
      "├─Linear: 1-6                            3,240\n",
      "├─Linear: 1-7                            41\n",
      "=================================================================\n",
      "Total params: 67,617\n",
      "Trainable params: 67,617\n",
      "Non-trainable params: 0\n",
      "=================================================================\n"
     ]
    },
    {
     "data": {
      "text/plain": [
       "=================================================================\n",
       "Layer (type:depth-idx)                   Param #\n",
       "=================================================================\n",
       "├─Conv2d: 1-1                            160\n",
       "├─MaxPool2d: 1-2                         --\n",
       "├─Conv2d: 1-3                            4,640\n",
       "├─Conv2d: 1-4                            18,496\n",
       "├─Linear: 1-5                            41,040\n",
       "├─Linear: 1-6                            3,240\n",
       "├─Linear: 1-7                            41\n",
       "=================================================================\n",
       "Total params: 67,617\n",
       "Trainable params: 67,617\n",
       "Non-trainable params: 0\n",
       "================================================================="
      ]
     },
     "execution_count": 17,
     "metadata": {},
     "output_type": "execute_result"
    }
   ],
   "source": [
    "from torchsummary import summary\n",
    "model_view = Net()\n",
    "summary(model_view)"
   ]
  },
  {
   "cell_type": "markdown",
   "metadata": {},
   "source": [
    "### model saving"
   ]
  },
  {
   "cell_type": "code",
   "execution_count": 18,
   "metadata": {},
   "outputs": [],
   "source": [
    "# save model parameters\n",
    "torch.save(net.state_dict(), './Models/cnn_weight_sharing.pt')"
   ]
  },
  {
   "cell_type": "code",
   "execution_count": 19,
   "metadata": {},
   "outputs": [
    {
     "data": {
      "text/plain": [
       "Net(\n",
       "  (conv1): Conv2d(1, 16, kernel_size=(3, 3), stride=(1, 1))\n",
       "  (pool1): MaxPool2d(kernel_size=2, stride=2, padding=0, dilation=1, ceil_mode=False)\n",
       "  (conv2): Conv2d(16, 32, kernel_size=(3, 3), stride=(1, 1))\n",
       "  (conv3): Conv2d(32, 64, kernel_size=(3, 3), stride=(1, 1))\n",
       "  (fc1): Linear(in_features=512, out_features=80, bias=True)\n",
       "  (fc2): Linear(in_features=80, out_features=40, bias=True)\n",
       "  (fc3): Linear(in_features=40, out_features=1, bias=True)\n",
       ")"
      ]
     },
     "execution_count": 19,
     "metadata": {},
     "output_type": "execute_result"
    }
   ],
   "source": [
    "# load model parameters\n",
    "model1 = Net()\n",
    "model1.load_state_dict(torch.load('./Models/cnn_weight_sharing.pt'))\n",
    "model1.eval()"
   ]
  }
 ],
 "metadata": {
  "kernelspec": {
   "display_name": "Python 3.10.7 ('env': venv)",
   "language": "python",
   "name": "python3"
  },
  "language_info": {
   "codemirror_mode": {
    "name": "ipython",
    "version": 3
   },
   "file_extension": ".py",
   "mimetype": "text/x-python",
   "name": "python",
   "nbconvert_exporter": "python",
   "pygments_lexer": "ipython3",
   "version": "3.10.7 (tags/v3.10.7:6cc6b13, Sep  5 2022, 14:08:36) [MSC v.1933 64 bit (AMD64)]"
  },
  "orig_nbformat": 4,
  "vscode": {
   "interpreter": {
    "hash": "1df14ab64c8b80a00633eb588e502182d4703a9c23e6ea3c6fedede8ab1fffa5"
   }
  }
 },
 "nbformat": 4,
 "nbformat_minor": 2
}
